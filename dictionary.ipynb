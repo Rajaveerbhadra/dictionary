{
 "cells": [
  {
   "cell_type": "code",
   "execution_count": 1,
   "id": "a67c2849-90f6-4539-a097-72f54f68b679",
   "metadata": {},
   "outputs": [],
   "source": [
    "d = {}"
   ]
  },
  {
   "cell_type": "code",
   "execution_count": 2,
   "id": "8034ea8b-6050-4577-976b-356219aeb97c",
   "metadata": {},
   "outputs": [
    {
     "data": {
      "text/plain": [
       "dict"
      ]
     },
     "execution_count": 2,
     "metadata": {},
     "output_type": "execute_result"
    }
   ],
   "source": [
    "type(d)"
   ]
  },
  {
   "cell_type": "code",
   "execution_count": 5,
   "id": "c0e5e869-58fb-4b48-b442-2eaa1936ad38",
   "metadata": {},
   "outputs": [],
   "source": [
    "d1 = {\"name\":\"prasad\",\"email_id\":\"ss@gmail.com\",\"number\":\"12345\"}"
   ]
  },
  {
   "cell_type": "code",
   "execution_count": 8,
   "id": "a55caa12-f8e6-4382-9efc-ffebeeccdc52",
   "metadata": {},
   "outputs": [
    {
     "data": {
      "text/plain": [
       "dict"
      ]
     },
     "execution_count": 8,
     "metadata": {},
     "output_type": "execute_result"
    }
   ],
   "source": [
    "type(d1)"
   ]
  },
  {
   "cell_type": "code",
   "execution_count": 9,
   "id": "ec47b22f-7d23-4656-bdd1-32aa08b92842",
   "metadata": {},
   "outputs": [
    {
     "data": {
      "text/plain": [
       "{'name': 'prasad', 'email_id': 'ss@gmail.com', 'number': 12345}"
      ]
     },
     "execution_count": 9,
     "metadata": {},
     "output_type": "execute_result"
    }
   ],
   "source": [
    "d1"
   ]
  },
  {
   "cell_type": "code",
   "execution_count": 11,
   "id": "95990130-fa66-451d-90fb-206b7c6ffb93",
   "metadata": {},
   "outputs": [],
   "source": [
    "d2 = {\"name\":\"sudh\",\"name\":\"prasad\"}"
   ]
  },
  {
   "cell_type": "code",
   "execution_count": 12,
   "id": "2bcf7e52-113a-4b97-bf86-ea17a70071db",
   "metadata": {},
   "outputs": [
    {
     "data": {
      "text/plain": [
       "{'name': 'prasad'}"
      ]
     },
     "execution_count": 12,
     "metadata": {},
     "output_type": "execute_result"
    }
   ],
   "source": [
    "d2"
   ]
  },
  {
   "cell_type": "code",
   "execution_count": 13,
   "id": "4435527f-0f7c-4086-91f0-6ed1566e0e6b",
   "metadata": {},
   "outputs": [],
   "source": [
    "d3 = {231456:\"abc\"}"
   ]
  },
  {
   "cell_type": "code",
   "execution_count": 14,
   "id": "44a8a587-9f56-4d94-b0a7-6f9c5c802e61",
   "metadata": {},
   "outputs": [
    {
     "data": {
      "text/plain": [
       "{231456: 'abc'}"
      ]
     },
     "execution_count": 14,
     "metadata": {},
     "output_type": "execute_result"
    }
   ],
   "source": [
    "d3"
   ]
  },
  {
   "cell_type": "code",
   "execution_count": 15,
   "id": "94ef9de2-5cf2-4af5-842f-5a6b679c10d6",
   "metadata": {},
   "outputs": [],
   "source": [
    "d4 = {55.54:\"abc\"}"
   ]
  },
  {
   "cell_type": "code",
   "execution_count": 16,
   "id": "cb1a5725-ac87-4247-9050-a686c7062701",
   "metadata": {},
   "outputs": [
    {
     "data": {
      "text/plain": [
       "{55.54: 'abc'}"
      ]
     },
     "execution_count": 16,
     "metadata": {},
     "output_type": "execute_result"
    }
   ],
   "source": [
    "d4"
   ]
  },
  {
   "cell_type": "code",
   "execution_count": 17,
   "id": "e410e15a-0ada-4202-bf8e-32a9e3f29403",
   "metadata": {},
   "outputs": [],
   "source": [
    "d5 = {True:\"abc\"}"
   ]
  },
  {
   "cell_type": "code",
   "execution_count": 18,
   "id": "f39fff0e-3f7f-4c66-b18c-3d3405c4a5c5",
   "metadata": {},
   "outputs": [
    {
     "data": {
      "text/plain": [
       "{True: 'abc'}"
      ]
     },
     "execution_count": 18,
     "metadata": {},
     "output_type": "execute_result"
    }
   ],
   "source": [
    "d5"
   ]
  },
  {
   "cell_type": "code",
   "execution_count": 19,
   "id": "941f29bb-a35e-472e-a661-cf0749be36d7",
   "metadata": {},
   "outputs": [
    {
     "ename": "SyntaxError",
     "evalue": "incomplete input (705723903.py, line 1)",
     "output_type": "error",
     "traceback": [
      "\u001b[0;36m  Cell \u001b[0;32mIn[19], line 1\u001b[0;36m\u001b[0m\n\u001b[0;31m    d6 = {#: \"abc\"}\u001b[0m\n\u001b[0m                   ^\u001b[0m\n\u001b[0;31mSyntaxError\u001b[0m\u001b[0;31m:\u001b[0m incomplete input\n"
     ]
    }
   ],
   "source": [
    "d6 = {#: \"abc\"}"
   ]
  },
  {
   "cell_type": "code",
   "execution_count": 20,
   "id": "7cc64887-7a22-42b2-8bc7-06c0add7df4d",
   "metadata": {},
   "outputs": [
    {
     "ename": "SyntaxError",
     "evalue": "invalid syntax (406242393.py, line 1)",
     "output_type": "error",
     "traceback": [
      "\u001b[0;36m  Cell \u001b[0;32mIn[20], line 1\u001b[0;36m\u001b[0m\n\u001b[0;31m    d7 ={@:\"abc\"}\u001b[0m\n\u001b[0m         ^\u001b[0m\n\u001b[0;31mSyntaxError\u001b[0m\u001b[0;31m:\u001b[0m invalid syntax\n"
     ]
    }
   ],
   "source": [
    "d7 ={@:\"abc\"}"
   ]
  },
  {
   "cell_type": "code",
   "execution_count": 21,
   "id": "e73232f4-ebfb-4dda-9e6e-92656b9b836e",
   "metadata": {},
   "outputs": [
    {
     "ename": "TypeError",
     "evalue": "unhashable type: 'list'",
     "output_type": "error",
     "traceback": [
      "\u001b[0;31m---------------------------------------------------------------------------\u001b[0m",
      "\u001b[0;31mTypeError\u001b[0m                                 Traceback (most recent call last)",
      "Cell \u001b[0;32mIn[21], line 1\u001b[0m\n\u001b[0;32m----> 1\u001b[0m d8 \u001b[38;5;241m=\u001b[39m {[\u001b[38;5;241m1\u001b[39m,\u001b[38;5;241m2\u001b[39m,\u001b[38;5;241m3\u001b[39m]:\u001b[38;5;124m\"\u001b[39m\u001b[38;5;124mabc\u001b[39m\u001b[38;5;124m\"\u001b[39m}\n",
      "\u001b[0;31mTypeError\u001b[0m: unhashable type: 'list'"
     ]
    }
   ],
   "source": [
    "d8 = {[1,2,3]:\"abc\"}"
   ]
  },
  {
   "cell_type": "code",
   "execution_count": 24,
   "id": "a3838280-2fcc-4595-99e1-2d7e7edeee51",
   "metadata": {},
   "outputs": [
    {
     "ename": "TypeError",
     "evalue": "unhashable type: 'list'",
     "output_type": "error",
     "traceback": [
      "\u001b[0;31m---------------------------------------------------------------------------\u001b[0m",
      "\u001b[0;31mTypeError\u001b[0m                                 Traceback (most recent call last)",
      "Cell \u001b[0;32mIn[24], line 1\u001b[0m\n\u001b[0;32m----> 1\u001b[0m d9 \u001b[38;5;241m=\u001b[39m {[\u001b[38;5;241m1\u001b[39m,\u001b[38;5;241m2\u001b[39m,\u001b[38;5;241m3\u001b[39m]:\u001b[38;5;124m\"\u001b[39m\u001b[38;5;124mdef\u001b[39m\u001b[38;5;124m\"\u001b[39m}\n",
      "\u001b[0;31mTypeError\u001b[0m: unhashable type: 'list'"
     ]
    }
   ],
   "source": [
    "d9 = {[1,2,3]:\"def\"}"
   ]
  },
  {
   "cell_type": "code",
   "execution_count": 23,
   "id": "a754fb88-0062-46e2-bf70-6f3ed8a18212",
   "metadata": {},
   "outputs": [
    {
     "data": {
      "text/plain": [
       "{(1, 2, 3): 'def'}"
      ]
     },
     "execution_count": 23,
     "metadata": {},
     "output_type": "execute_result"
    }
   ],
   "source": [
    "d9"
   ]
  },
  {
   "cell_type": "code",
   "execution_count": 25,
   "id": "7126424c-7bd1-4118-bea1-a9a223c3d30a",
   "metadata": {},
   "outputs": [
    {
     "ename": "TypeError",
     "evalue": "unhashable type: 'set'",
     "output_type": "error",
     "traceback": [
      "\u001b[0;31m---------------------------------------------------------------------------\u001b[0m",
      "\u001b[0;31mTypeError\u001b[0m                                 Traceback (most recent call last)",
      "Cell \u001b[0;32mIn[25], line 1\u001b[0m\n\u001b[0;32m----> 1\u001b[0m d10 \u001b[38;5;241m=\u001b[39m{{\u001b[38;5;241m1\u001b[39m,\u001b[38;5;241m2\u001b[39m,\u001b[38;5;241m3\u001b[39m}:\u001b[38;5;124m\"\u001b[39m\u001b[38;5;124msbs\u001b[39m\u001b[38;5;124m\"\u001b[39m}\n",
      "\u001b[0;31mTypeError\u001b[0m: unhashable type: 'set'"
     ]
    }
   ],
   "source": [
    "d10 ={{1,2,3}:\"sbs\"}"
   ]
  },
  {
   "cell_type": "code",
   "execution_count": 26,
   "id": "bdf5fbec-b0cb-43c2-bdcc-9905f2f11466",
   "metadata": {},
   "outputs": [
    {
     "ename": "TypeError",
     "evalue": "unhashable type: 'dict'",
     "output_type": "error",
     "traceback": [
      "\u001b[0;31m---------------------------------------------------------------------------\u001b[0m",
      "\u001b[0;31mTypeError\u001b[0m                                 Traceback (most recent call last)",
      "Cell \u001b[0;32mIn[26], line 1\u001b[0m\n\u001b[0;32m----> 1\u001b[0m d11 \u001b[38;5;241m=\u001b[39m {{\u001b[38;5;124m\"\u001b[39m\u001b[38;5;124mkey\u001b[39m\u001b[38;5;124m\"\u001b[39m:\u001b[38;5;241m234\u001b[39m}:\u001b[38;5;124m\"\u001b[39m\u001b[38;5;124mabc\u001b[39m\u001b[38;5;124m\"\u001b[39m}\n",
      "\u001b[0;31mTypeError\u001b[0m: unhashable type: 'dict'"
     ]
    }
   ],
   "source": [
    "d11 = {{\"key\":234}:\"abc\"}"
   ]
  },
  {
   "cell_type": "code",
   "execution_count": 27,
   "id": "fde3c3ea-4bca-4b31-9047-d9695793574f",
   "metadata": {},
   "outputs": [],
   "source": [
    "d12 = {\"course_name\":[\"data science masters\",\"web dev\",\"java with dsa and system design\"]}"
   ]
  },
  {
   "cell_type": "code",
   "execution_count": 28,
   "id": "09c2a6d7-860d-4024-8061-e4639cdc55bb",
   "metadata": {},
   "outputs": [
    {
     "data": {
      "text/plain": [
       "{'course_name': ['data science masters',\n",
       "  'web dev',\n",
       "  'java with dsa and system design']}"
      ]
     },
     "execution_count": 28,
     "metadata": {},
     "output_type": "execute_result"
    }
   ],
   "source": [
    "d12"
   ]
  },
  {
   "cell_type": "code",
   "execution_count": 29,
   "id": "abacc0dd-cbad-4b2f-ae4e-96ea5e1e0295",
   "metadata": {},
   "outputs": [],
   "source": [
    "d13 = {\"key\":(1,2,3,4,5)}"
   ]
  },
  {
   "cell_type": "code",
   "execution_count": 30,
   "id": "52e69795-06c8-4d51-b053-c7569495e75f",
   "metadata": {},
   "outputs": [],
   "source": [
    "d14 = {\"key\":{1,2,3,4,5}}"
   ]
  },
  {
   "cell_type": "code",
   "execution_count": 31,
   "id": "a6ebe9ee-fdfe-423b-8989-e7c56850d77c",
   "metadata": {},
   "outputs": [],
   "source": [
    "d15 ={\"key\":{\"name\":\"prasad\",\"sem\":\"DSM2\"}}"
   ]
  },
  {
   "cell_type": "code",
   "execution_count": 32,
   "id": "58a9b9f8-9acd-47e1-8835-9b373e3137ee",
   "metadata": {},
   "outputs": [
    {
     "data": {
      "text/plain": [
       "{'key': {'name': 'prasad', 'sem': 'DSM2'}}"
      ]
     },
     "execution_count": 32,
     "metadata": {},
     "output_type": "execute_result"
    }
   ],
   "source": [
    "d15"
   ]
  },
  {
   "cell_type": "code",
   "execution_count": 35,
   "id": "31b3304f-4bf7-4389-bae0-1f44ac7533bf",
   "metadata": {},
   "outputs": [],
   "source": [
    "d16 = {\"batch_name\":[\"data science masters\",\"web dev\",\"JDS\"],\"start_date\":(28,14,21),\"mentor_name\":{\"prasad_lande\",\"prasad\",\"lp\"}}"
   ]
  },
  {
   "cell_type": "code",
   "execution_count": 36,
   "id": "304daf5a-7843-4464-b26e-8875760b536b",
   "metadata": {},
   "outputs": [
    {
     "data": {
      "text/plain": [
       "{'batch_name': ['data science masters', 'web dev', 'JDS'],\n",
       " 'start_date': (28, 14, 21),\n",
       " 'mentor_name': {'lp', 'prasad', 'prasad_lande'}}"
      ]
     },
     "execution_count": 36,
     "metadata": {},
     "output_type": "execute_result"
    }
   ],
   "source": [
    "d16"
   ]
  },
  {
   "cell_type": "code",
   "execution_count": 37,
   "id": "53e912d5-ae59-494d-9ac4-0e3836fdb387",
   "metadata": {},
   "outputs": [],
   "source": [
    "d16[\"samay\"]=(5,5,5)"
   ]
  },
  {
   "cell_type": "code",
   "execution_count": 38,
   "id": "6738a753-ce7c-4984-a425-19d603e979bd",
   "metadata": {},
   "outputs": [
    {
     "data": {
      "text/plain": [
       "{'batch_name': ['data science masters', 'web dev', 'JDS'],\n",
       " 'start_date': (28, 14, 21),\n",
       " 'mentor_name': {'lp', 'prasad', 'prasad_lande'},\n",
       " 'samay': (5, 5, 5)}"
      ]
     },
     "execution_count": 38,
     "metadata": {},
     "output_type": "execute_result"
    }
   ],
   "source": [
    "d16"
   ]
  },
  {
   "cell_type": "code",
   "execution_count": 40,
   "id": "43db2792-be32-40fb-80ff-b26fbce48778",
   "metadata": {},
   "outputs": [
    {
     "data": {
      "text/plain": [
       "['data science masters', 'web dev', 'JDS']"
      ]
     },
     "execution_count": 40,
     "metadata": {},
     "output_type": "execute_result"
    }
   ],
   "source": [
    "d16['batch_name']"
   ]
  },
  {
   "cell_type": "code",
   "execution_count": 41,
   "id": "cf052053-4da1-4b38-8f94-4586ddd5d117",
   "metadata": {},
   "outputs": [
    {
     "data": {
      "text/plain": [
       "{'lp', 'prasad', 'prasad_lande'}"
      ]
     },
     "execution_count": 41,
     "metadata": {},
     "output_type": "execute_result"
    }
   ],
   "source": [
    "d16['mentor_name']"
   ]
  },
  {
   "cell_type": "code",
   "execution_count": 42,
   "id": "6d63b869-5244-444b-9850-5852177f5423",
   "metadata": {},
   "outputs": [
    {
     "data": {
      "text/plain": [
       "set"
      ]
     },
     "execution_count": 42,
     "metadata": {},
     "output_type": "execute_result"
    }
   ],
   "source": [
    "type(d16['mentor_name'])"
   ]
  },
  {
   "cell_type": "code",
   "execution_count": 43,
   "id": "303abe1d-49d0-47ff-aab5-6b4520b5ed19",
   "metadata": {},
   "outputs": [
    {
     "ename": "KeyError",
     "evalue": "'key'",
     "output_type": "error",
     "traceback": [
      "\u001b[0;31m---------------------------------------------------------------------------\u001b[0m",
      "\u001b[0;31mKeyError\u001b[0m                                  Traceback (most recent call last)",
      "Cell \u001b[0;32mIn[43], line 1\u001b[0m\n\u001b[0;32m----> 1\u001b[0m \u001b[43md16\u001b[49m\u001b[43m[\u001b[49m\u001b[38;5;124;43m\"\u001b[39;49m\u001b[38;5;124;43mkey\u001b[39;49m\u001b[38;5;124;43m\"\u001b[39;49m\u001b[43m]\u001b[49m\n",
      "\u001b[0;31mKeyError\u001b[0m: 'key'"
     ]
    }
   ],
   "source": [
    "d16[\"key\"]"
   ]
  },
  {
   "cell_type": "code",
   "execution_count": 46,
   "id": "468a1b77-25cb-48bc-9195-ca336d160e0e",
   "metadata": {},
   "outputs": [],
   "source": [
    "d16[\"name\"]=\"prasad\""
   ]
  },
  {
   "cell_type": "code",
   "execution_count": 47,
   "id": "3c9afecc-4b05-4fc2-b7a1-099f86e0b9f4",
   "metadata": {},
   "outputs": [
    {
     "data": {
      "text/plain": [
       "{'batch_name': ['data science masters', 'web dev', 'JDS'],\n",
       " 'start_date': (28, 14, 21),\n",
       " 'mentor_name': {'lp', 'prasad', 'prasad_lande'},\n",
       " 'samay': (5, 5, 5),\n",
       " 'name': 'prasad'}"
      ]
     },
     "execution_count": 47,
     "metadata": {},
     "output_type": "execute_result"
    }
   ],
   "source": [
    "d16"
   ]
  },
  {
   "cell_type": "code",
   "execution_count": 48,
   "id": "e53a60cc-e197-498a-b300-bc800be686b4",
   "metadata": {},
   "outputs": [
    {
     "data": {
      "text/plain": [
       "'prasad'"
      ]
     },
     "execution_count": 48,
     "metadata": {},
     "output_type": "execute_result"
    }
   ],
   "source": [
    "d16['name']"
   ]
  },
  {
   "cell_type": "code",
   "execution_count": 49,
   "id": "c30795b5-9040-494b-9605-78f7f4f122c8",
   "metadata": {},
   "outputs": [
    {
     "data": {
      "text/plain": [
       "'PRASAD'"
      ]
     },
     "execution_count": 49,
     "metadata": {},
     "output_type": "execute_result"
    }
   ],
   "source": [
    "d16['name'].upper()"
   ]
  },
  {
   "cell_type": "code",
   "execution_count": 50,
   "id": "85483589-750f-46a5-bfdd-9eb73a908174",
   "metadata": {},
   "outputs": [
    {
     "data": {
      "text/plain": [
       "{'key': {'name': 'prasad', 'sem': 'DSM2'}}"
      ]
     },
     "execution_count": 50,
     "metadata": {},
     "output_type": "execute_result"
    }
   ],
   "source": [
    "d15"
   ]
  },
  {
   "cell_type": "code",
   "execution_count": 51,
   "id": "0636e383-948e-498a-a8a0-237e65c3b135",
   "metadata": {},
   "outputs": [
    {
     "data": {
      "text/plain": [
       "{'name': 'prasad', 'sem': 'DSM2'}"
      ]
     },
     "execution_count": 51,
     "metadata": {},
     "output_type": "execute_result"
    }
   ],
   "source": [
    "d15['key']"
   ]
  },
  {
   "cell_type": "code",
   "execution_count": 52,
   "id": "4630b570-3221-4fbb-8a41-91cd3da5ce89",
   "metadata": {},
   "outputs": [
    {
     "data": {
      "text/plain": [
       "dict"
      ]
     },
     "execution_count": 52,
     "metadata": {},
     "output_type": "execute_result"
    }
   ],
   "source": [
    "type(d15['key'])"
   ]
  },
  {
   "cell_type": "code",
   "execution_count": 53,
   "id": "21244848-cd40-44e5-be78-f604e89fbbf3",
   "metadata": {},
   "outputs": [
    {
     "ename": "KeyError",
     "evalue": "'class'",
     "output_type": "error",
     "traceback": [
      "\u001b[0;31m---------------------------------------------------------------------------\u001b[0m",
      "\u001b[0;31mKeyError\u001b[0m                                  Traceback (most recent call last)",
      "Cell \u001b[0;32mIn[53], line 1\u001b[0m\n\u001b[0;32m----> 1\u001b[0m \u001b[43md15\u001b[49m\u001b[43m[\u001b[49m\u001b[38;5;124;43m'\u001b[39;49m\u001b[38;5;124;43mkey\u001b[39;49m\u001b[38;5;124;43m'\u001b[39;49m\u001b[43m]\u001b[49m\u001b[43m[\u001b[49m\u001b[38;5;124;43m'\u001b[39;49m\u001b[38;5;124;43mclass\u001b[39;49m\u001b[38;5;124;43m'\u001b[39;49m\u001b[43m]\u001b[49m\n",
      "\u001b[0;31mKeyError\u001b[0m: 'class'"
     ]
    }
   ],
   "source": [
    "d15['key']['class']"
   ]
  },
  {
   "cell_type": "code",
   "execution_count": 54,
   "id": "18c44faf-4f87-4b36-a395-a38d0d654ae1",
   "metadata": {},
   "outputs": [
    {
     "data": {
      "text/plain": [
       "'prasad'"
      ]
     },
     "execution_count": 54,
     "metadata": {},
     "output_type": "execute_result"
    }
   ],
   "source": [
    "d16['name']"
   ]
  },
  {
   "cell_type": "code",
   "execution_count": 55,
   "id": "0e154bf5-55f6-46ca-978c-c177f7cc91e1",
   "metadata": {},
   "outputs": [
    {
     "data": {
      "text/plain": [
       "{'batch_name': ['data science masters', 'web dev', 'JDS'],\n",
       " 'start_date': (28, 14, 21),\n",
       " 'mentor_name': {'lp', 'prasad', 'prasad_lande'},\n",
       " 'samay': (5, 5, 5),\n",
       " 'name': 'prasad'}"
      ]
     },
     "execution_count": 55,
     "metadata": {},
     "output_type": "execute_result"
    }
   ],
   "source": [
    "d16"
   ]
  },
  {
   "cell_type": "code",
   "execution_count": 56,
   "id": "852520db-9303-4af4-ba7c-256421c06f9e",
   "metadata": {},
   "outputs": [
    {
     "data": {
      "text/plain": [
       "'PRASAD'"
      ]
     },
     "execution_count": 56,
     "metadata": {},
     "output_type": "execute_result"
    }
   ],
   "source": [
    "d16['name'].upper()"
   ]
  },
  {
   "cell_type": "code",
   "execution_count": 57,
   "id": "c7ecc498-a877-47a1-9d46-9a62e8c45de5",
   "metadata": {},
   "outputs": [
    {
     "data": {
      "text/plain": [
       "{'batch_name': ['data science masters', 'web dev', 'JDS'],\n",
       " 'start_date': (28, 14, 21),\n",
       " 'mentor_name': {'lp', 'prasad', 'prasad_lande'},\n",
       " 'samay': (5, 5, 5),\n",
       " 'name': 'prasad'}"
      ]
     },
     "execution_count": 57,
     "metadata": {},
     "output_type": "execute_result"
    }
   ],
   "source": [
    "d16"
   ]
  },
  {
   "cell_type": "code",
   "execution_count": 58,
   "id": "b975d015-96d9-4db5-a3a3-75b71b20ad7c",
   "metadata": {},
   "outputs": [
    {
     "data": {
      "text/plain": [
       "{'name': 'prasad', 'sem': 'DSM2'}"
      ]
     },
     "execution_count": 58,
     "metadata": {},
     "output_type": "execute_result"
    }
   ],
   "source": [
    " d15['key']"
   ]
  },
  {
   "cell_type": "code",
   "execution_count": 61,
   "id": "483b6977-5315-4aa0-a2ee-5fda0b4ec18a",
   "metadata": {},
   "outputs": [
    {
     "data": {
      "text/plain": [
       "dict"
      ]
     },
     "execution_count": 61,
     "metadata": {},
     "output_type": "execute_result"
    }
   ],
   "source": [
    "type(d15['key'])"
   ]
  },
  {
   "cell_type": "code",
   "execution_count": 66,
   "id": "7aab0129-21c6-4fb4-9cdf-84a9f049b5ad",
   "metadata": {},
   "outputs": [
    {
     "ename": "KeyError",
     "evalue": "'class'",
     "output_type": "error",
     "traceback": [
      "\u001b[0;31m---------------------------------------------------------------------------\u001b[0m",
      "\u001b[0;31mKeyError\u001b[0m                                  Traceback (most recent call last)",
      "Cell \u001b[0;32mIn[66], line 1\u001b[0m\n\u001b[0;32m----> 1\u001b[0m \u001b[43md15\u001b[49m\u001b[43m[\u001b[49m\u001b[38;5;124;43m\"\u001b[39;49m\u001b[38;5;124;43mkey\u001b[39;49m\u001b[38;5;124;43m\"\u001b[39;49m\u001b[43m]\u001b[49m\u001b[43m[\u001b[49m\u001b[38;5;124;43m'\u001b[39;49m\u001b[38;5;124;43mclass\u001b[39;49m\u001b[38;5;124;43m'\u001b[39;49m\u001b[43m]\u001b[49m\n",
      "\u001b[0;31mKeyError\u001b[0m: 'class'"
     ]
    }
   ],
   "source": [
    "d15[\"key\"]['class']"
   ]
  },
  {
   "cell_type": "code",
   "execution_count": 67,
   "id": "365764a0-7279-4039-ba9c-155c83621262",
   "metadata": {},
   "outputs": [],
   "source": [
    "d15[\"key1\"] = \"abc\""
   ]
  },
  {
   "cell_type": "code",
   "execution_count": 68,
   "id": "29b84b4b-3661-4a75-ba32-387d0affb655",
   "metadata": {},
   "outputs": [
    {
     "data": {
      "text/plain": [
       "{'key': {'name': 'prasad', 'sem': 'DSM2'}, 'key1': 'abc'}"
      ]
     },
     "execution_count": 68,
     "metadata": {},
     "output_type": "execute_result"
    }
   ],
   "source": [
    "d15"
   ]
  },
  {
   "cell_type": "code",
   "execution_count": 69,
   "id": "2795cba2-aa67-4a90-bff9-1f54f021a9d3",
   "metadata": {},
   "outputs": [],
   "source": [
    "del d15['key1']"
   ]
  },
  {
   "cell_type": "code",
   "execution_count": 70,
   "id": "d0207600-4382-4638-b751-18bca11f517e",
   "metadata": {},
   "outputs": [
    {
     "data": {
      "text/plain": [
       "{'key': {'name': 'prasad', 'sem': 'DSM2'}}"
      ]
     },
     "execution_count": 70,
     "metadata": {},
     "output_type": "execute_result"
    }
   ],
   "source": [
    "d15"
   ]
  },
  {
   "cell_type": "raw",
   "id": "8f0c31a2-2e01-4218-8c10-b783eba1dab0",
   "metadata": {},
   "source": [
    "d15.clear()"
   ]
  },
  {
   "cell_type": "code",
   "execution_count": 73,
   "id": "fd254d4f-d708-4a73-bb7d-0c78dbaf35d2",
   "metadata": {},
   "outputs": [
    {
     "data": {
      "text/plain": [
       "{'key': {'name': 'prasad', 'sem': 'DSM2'}}"
      ]
     },
     "execution_count": 73,
     "metadata": {},
     "output_type": "execute_result"
    }
   ],
   "source": [
    "d15"
   ]
  },
  {
   "cell_type": "code",
   "execution_count": 74,
   "id": "7bc2087c-5e29-49eb-bbe5-9db2a417444c",
   "metadata": {},
   "outputs": [],
   "source": [
    "d15.clear()"
   ]
  },
  {
   "cell_type": "code",
   "execution_count": 75,
   "id": "36d0a660-85ba-4f8a-b6e8-99b14c2740d1",
   "metadata": {},
   "outputs": [
    {
     "data": {
      "text/plain": [
       "{}"
      ]
     },
     "execution_count": 75,
     "metadata": {},
     "output_type": "execute_result"
    }
   ],
   "source": [
    "d15"
   ]
  },
  {
   "cell_type": "code",
   "execution_count": 76,
   "id": "cf7f0444-4ce0-4aa9-b4fb-2b2d955d39d3",
   "metadata": {},
   "outputs": [
    {
     "data": {
      "text/plain": [
       "5"
      ]
     },
     "execution_count": 76,
     "metadata": {},
     "output_type": "execute_result"
    }
   ],
   "source": [
    "len(d16)"
   ]
  },
  {
   "cell_type": "code",
   "execution_count": 77,
   "id": "d3e6f6ae-123c-4e90-b06d-1fe8a286f605",
   "metadata": {},
   "outputs": [
    {
     "data": {
      "text/plain": [
       "{'batch_name': ['data science masters', 'web dev', 'JDS'],\n",
       " 'start_date': (28, 14, 21),\n",
       " 'mentor_name': {'lp', 'prasad', 'prasad_lande'},\n",
       " 'samay': (5, 5, 5),\n",
       " 'name': 'prasad'}"
      ]
     },
     "execution_count": 77,
     "metadata": {},
     "output_type": "execute_result"
    }
   ],
   "source": [
    "d16"
   ]
  },
  {
   "cell_type": "code",
   "execution_count": 78,
   "id": "df51b0d1-e11b-4a7c-bb6d-215cbd4fea8f",
   "metadata": {},
   "outputs": [
    {
     "data": {
      "text/plain": [
       "dict_keys(['batch_name', 'start_date', 'mentor_name', 'samay', 'name'])"
      ]
     },
     "execution_count": 78,
     "metadata": {},
     "output_type": "execute_result"
    }
   ],
   "source": [
    "d16.keys()"
   ]
  },
  {
   "cell_type": "code",
   "execution_count": 79,
   "id": "5f018503-5c5c-4731-850d-b3d2ec561ddf",
   "metadata": {},
   "outputs": [
    {
     "data": {
      "text/plain": [
       "dict_values([['data science masters', 'web dev', 'JDS'], (28, 14, 21), {'prasad', 'prasad_lande', 'lp'}, (5, 5, 5), 'prasad'])"
      ]
     },
     "execution_count": 79,
     "metadata": {},
     "output_type": "execute_result"
    }
   ],
   "source": [
    "d16.values()"
   ]
  },
  {
   "cell_type": "code",
   "execution_count": 80,
   "id": "505835f5-f949-4897-bc89-dadee32316a5",
   "metadata": {},
   "outputs": [
    {
     "data": {
      "text/plain": [
       "[['data science masters', 'web dev', 'JDS'],\n",
       " (28, 14, 21),\n",
       " {'lp', 'prasad', 'prasad_lande'},\n",
       " (5, 5, 5),\n",
       " 'prasad']"
      ]
     },
     "execution_count": 80,
     "metadata": {},
     "output_type": "execute_result"
    }
   ],
   "source": [
    "list(d16.values())"
   ]
  },
  {
   "cell_type": "code",
   "execution_count": 81,
   "id": "ab981b30-5424-4901-b0cd-f04792797385",
   "metadata": {},
   "outputs": [
    {
     "data": {
      "text/plain": [
       "['batch_name', 'start_date', 'mentor_name', 'samay', 'name']"
      ]
     },
     "execution_count": 81,
     "metadata": {},
     "output_type": "execute_result"
    }
   ],
   "source": [
    "list(d16.keys())"
   ]
  },
  {
   "cell_type": "code",
   "execution_count": 82,
   "id": "7b2a8695-abb7-45f4-b161-13dd99b05ba3",
   "metadata": {},
   "outputs": [
    {
     "data": {
      "text/plain": [
       "dict_items([('batch_name', ['data science masters', 'web dev', 'JDS']), ('start_date', (28, 14, 21)), ('mentor_name', {'prasad', 'prasad_lande', 'lp'}), ('samay', (5, 5, 5)), ('name', 'prasad')])"
      ]
     },
     "execution_count": 82,
     "metadata": {},
     "output_type": "execute_result"
    }
   ],
   "source": [
    "d16.items()"
   ]
  },
  {
   "cell_type": "code",
   "execution_count": 83,
   "id": "0a53d1e7-1628-4bed-9c42-6a173b5b83cc",
   "metadata": {},
   "outputs": [
    {
     "data": {
      "text/plain": [
       "[('batch_name', ['data science masters', 'web dev', 'JDS']),\n",
       " ('start_date', (28, 14, 21)),\n",
       " ('mentor_name', {'lp', 'prasad', 'prasad_lande'}),\n",
       " ('samay', (5, 5, 5)),\n",
       " ('name', 'prasad')]"
      ]
     },
     "execution_count": 83,
     "metadata": {},
     "output_type": "execute_result"
    }
   ],
   "source": [
    "list(d16.items())"
   ]
  },
  {
   "cell_type": "code",
   "execution_count": 84,
   "id": "b223d711-c580-43d0-9414-a46e869bb7f2",
   "metadata": {},
   "outputs": [
    {
     "data": {
      "text/plain": [
       "{'batch_name': ['data science masters', 'web dev', 'JDS'],\n",
       " 'start_date': (28, 14, 21),\n",
       " 'mentor_name': {'lp', 'prasad', 'prasad_lande'},\n",
       " 'samay': (5, 5, 5),\n",
       " 'name': 'prasad'}"
      ]
     },
     "execution_count": 84,
     "metadata": {},
     "output_type": "execute_result"
    }
   ],
   "source": [
    "d16"
   ]
  },
  {
   "cell_type": "code",
   "execution_count": 85,
   "id": "c027a72d-cc6b-4f0d-bbfe-e246fd7b5dae",
   "metadata": {},
   "outputs": [],
   "source": [
    "d17 = d16.copy()"
   ]
  },
  {
   "cell_type": "code",
   "execution_count": 86,
   "id": "3643015c-627e-42af-a7e7-799e1d853a79",
   "metadata": {},
   "outputs": [
    {
     "data": {
      "text/plain": [
       "{'batch_name': ['data science masters', 'web dev', 'JDS'],\n",
       " 'start_date': (28, 14, 21),\n",
       " 'mentor_name': {'lp', 'prasad', 'prasad_lande'},\n",
       " 'samay': (5, 5, 5),\n",
       " 'name': 'prasad'}"
      ]
     },
     "execution_count": 86,
     "metadata": {},
     "output_type": "execute_result"
    }
   ],
   "source": [
    "d17"
   ]
  },
  {
   "cell_type": "code",
   "execution_count": 87,
   "id": "fb0eb14a-22a6-4654-a6c4-3a7907992ca8",
   "metadata": {},
   "outputs": [],
   "source": [
    "d18 = d16"
   ]
  },
  {
   "cell_type": "code",
   "execution_count": 88,
   "id": "9244509a-ace5-478d-87e7-208b3231c0be",
   "metadata": {},
   "outputs": [
    {
     "data": {
      "text/plain": [
       "{'batch_name': ['data science masters', 'web dev', 'JDS'],\n",
       " 'start_date': (28, 14, 21),\n",
       " 'mentor_name': {'lp', 'prasad', 'prasad_lande'},\n",
       " 'samay': (5, 5, 5),\n",
       " 'name': 'prasad'}"
      ]
     },
     "execution_count": 88,
     "metadata": {},
     "output_type": "execute_result"
    }
   ],
   "source": [
    "d18"
   ]
  },
  {
   "cell_type": "code",
   "execution_count": 89,
   "id": "c38e10df-1291-497d-a470-4dfc9ed02df6",
   "metadata": {},
   "outputs": [],
   "source": [
    "del d16[\"name\"]"
   ]
  },
  {
   "cell_type": "code",
   "execution_count": 90,
   "id": "5fb3a5fe-c850-4056-87b2-294bb6f9268d",
   "metadata": {},
   "outputs": [
    {
     "data": {
      "text/plain": [
       "{'batch_name': ['data science masters', 'web dev', 'JDS'],\n",
       " 'start_date': (28, 14, 21),\n",
       " 'mentor_name': {'lp', 'prasad', 'prasad_lande'},\n",
       " 'samay': (5, 5, 5)}"
      ]
     },
     "execution_count": 90,
     "metadata": {},
     "output_type": "execute_result"
    }
   ],
   "source": [
    "d16"
   ]
  },
  {
   "cell_type": "code",
   "execution_count": 91,
   "id": "000a16f8-589b-4e25-a7a8-7a910f32e017",
   "metadata": {},
   "outputs": [
    {
     "data": {
      "text/plain": [
       "{'batch_name': ['data science masters', 'web dev', 'JDS'],\n",
       " 'start_date': (28, 14, 21),\n",
       " 'mentor_name': {'lp', 'prasad', 'prasad_lande'},\n",
       " 'samay': (5, 5, 5),\n",
       " 'name': 'prasad'}"
      ]
     },
     "execution_count": 91,
     "metadata": {},
     "output_type": "execute_result"
    }
   ],
   "source": [
    "d17"
   ]
  },
  {
   "cell_type": "code",
   "execution_count": 93,
   "id": "6aaaf172-1ae6-4bca-a990-11fdda54e4b9",
   "metadata": {},
   "outputs": [
    {
     "data": {
      "text/plain": [
       "(5, 5, 5)"
      ]
     },
     "execution_count": 93,
     "metadata": {},
     "output_type": "execute_result"
    }
   ],
   "source": [
    "d16.pop(\"samay\")"
   ]
  },
  {
   "cell_type": "code",
   "execution_count": 94,
   "id": "b1e08d81-b5b3-4c24-8879-d017a1a08e16",
   "metadata": {},
   "outputs": [
    {
     "data": {
      "text/plain": [
       "{'batch_name': ['data science masters', 'web dev', 'JDS'],\n",
       " 'start_date': (28, 14, 21),\n",
       " 'mentor_name': {'lp', 'prasad', 'prasad_lande'}}"
      ]
     },
     "execution_count": 94,
     "metadata": {},
     "output_type": "execute_result"
    }
   ],
   "source": [
    "d16"
   ]
  },
  {
   "cell_type": "code",
   "execution_count": 96,
   "id": "abc4df5d-7c90-45b2-a38b-e05a0cd1ae1c",
   "metadata": {},
   "outputs": [
    {
     "data": {
      "text/plain": [
       "{'lp', 'prasad', 'prasad_lande'}"
      ]
     },
     "execution_count": 96,
     "metadata": {},
     "output_type": "execute_result"
    }
   ],
   "source": [
    "d16.pop('mentor_name')"
   ]
  },
  {
   "cell_type": "code",
   "execution_count": 97,
   "id": "92f8fbb8-2075-4697-bc57-3979bc5fef0d",
   "metadata": {},
   "outputs": [
    {
     "data": {
      "text/plain": [
       "{'batch_name': ['data science masters', 'web dev', 'JDS'],\n",
       " 'start_date': (28, 14, 21)}"
      ]
     },
     "execution_count": 97,
     "metadata": {},
     "output_type": "execute_result"
    }
   ],
   "source": [
    "d16"
   ]
  },
  {
   "cell_type": "code",
   "execution_count": 98,
   "id": "6eed0195-e7ce-4980-a204-bdbc942ae677",
   "metadata": {},
   "outputs": [
    {
     "data": {
      "text/plain": [
       "{1: ('a', 'b', 'c'), 2: ('a', 'b', 'c'), 3: ('a', 'b', 'c')}"
      ]
     },
     "execution_count": 98,
     "metadata": {},
     "output_type": "execute_result"
    }
   ],
   "source": [
    "d.fromkeys((1,2,3),('a','b','c'))"
   ]
  },
  {
   "cell_type": "code",
   "execution_count": 101,
   "id": "05ed02a9-ba5f-4241-a3c2-eaad2279770c",
   "metadata": {},
   "outputs": [],
   "source": [
    "d19 = {\"key1\":\"value1\",\"key2\":\"value2\"}\n",
    "d20 = {\"key3\":\"value3\",\"key4\":\"value4\"}"
   ]
  },
  {
   "cell_type": "code",
   "execution_count": 102,
   "id": "c19dff97-0a36-4674-9db8-585b6673055e",
   "metadata": {},
   "outputs": [
    {
     "data": {
      "text/plain": [
       "({'key1': 'value1', 'key2': 'value2'}, {'key3': 'value3', 'key4': 'value4'})"
      ]
     },
     "execution_count": 102,
     "metadata": {},
     "output_type": "execute_result"
    }
   ],
   "source": [
    "(d19,d20)"
   ]
  },
  {
   "cell_type": "code",
   "execution_count": 103,
   "id": "158a94db-bd2d-48c5-8539-487e9021800b",
   "metadata": {},
   "outputs": [],
   "source": [
    "d19.update(d20)"
   ]
  },
  {
   "cell_type": "code",
   "execution_count": 104,
   "id": "a239b91a-ea8d-4a71-9d1c-96a19040bb3a",
   "metadata": {},
   "outputs": [
    {
     "data": {
      "text/plain": [
       "{'key1': 'value1', 'key2': 'value2', 'key3': 'value3', 'key4': 'value4'}"
      ]
     },
     "execution_count": 104,
     "metadata": {},
     "output_type": "execute_result"
    }
   ],
   "source": [
    "d19"
   ]
  },
  {
   "cell_type": "code",
   "execution_count": 105,
   "id": "812f0052-e3e5-40b7-8ab1-70a4139b144e",
   "metadata": {},
   "outputs": [
    {
     "data": {
      "text/plain": [
       "{'key3': 'value3', 'key4': 'value4'}"
      ]
     },
     "execution_count": 105,
     "metadata": {},
     "output_type": "execute_result"
    }
   ],
   "source": [
    "d20"
   ]
  },
  {
   "cell_type": "code",
   "execution_count": 106,
   "id": "00bdd652-a164-41cf-8a99-d2ffb7b5bb1a",
   "metadata": {},
   "outputs": [],
   "source": [
    "d20.update(d19)"
   ]
  },
  {
   "cell_type": "code",
   "execution_count": 107,
   "id": "b906acdb-6279-4f38-834c-44056d249217",
   "metadata": {},
   "outputs": [
    {
     "data": {
      "text/plain": [
       "{'key3': 'value3', 'key4': 'value4', 'key1': 'value1', 'key2': 'value2'}"
      ]
     },
     "execution_count": 107,
     "metadata": {},
     "output_type": "execute_result"
    }
   ],
   "source": [
    "d20"
   ]
  },
  {
   "cell_type": "code",
   "execution_count": 108,
   "id": "d9349c93-a09c-4212-9b61-645a9fe5d2e5",
   "metadata": {},
   "outputs": [],
   "source": [
    "d20.get(\"prasad\")"
   ]
  },
  {
   "cell_type": "code",
   "execution_count": 109,
   "id": "9d4955c7-36b8-4cc4-bb06-979c370cf771",
   "metadata": {},
   "outputs": [
    {
     "data": {
      "text/plain": [
       "'value3'"
      ]
     },
     "execution_count": 109,
     "metadata": {},
     "output_type": "execute_result"
    }
   ],
   "source": [
    "d20.get(\"key3\")"
   ]
  },
  {
   "cell_type": "code",
   "execution_count": 110,
   "id": "347e48b5-0c42-44fd-a362-f96ad1c2526c",
   "metadata": {},
   "outputs": [
    {
     "data": {
      "text/plain": [
       "'value3'"
      ]
     },
     "execution_count": 110,
     "metadata": {},
     "output_type": "execute_result"
    }
   ],
   "source": [
    "d20[\"key3\"]"
   ]
  },
  {
   "cell_type": "code",
   "execution_count": 112,
   "id": "236b7185-e5cc-4840-9bfe-ce17a4b72914",
   "metadata": {},
   "outputs": [],
   "source": [
    "d20.get(\"key3\")"
   ]
  },
  {
   "cell_type": "code",
   "execution_count": 117,
   "id": "3f87c352-5247-44d7-83eb-65493d551584",
   "metadata": {},
   "outputs": [],
   "source": [
    "d20.get(\"prasad\")"
   ]
  },
  {
   "cell_type": "code",
   "execution_count": 118,
   "id": "37a04620-c82b-441d-844d-f89cd3d3a8d5",
   "metadata": {},
   "outputs": [
    {
     "data": {
      "text/plain": [
       "{'key3': 'value3', 'key4': 'value4', 'key1': 'value1', 'key2': 'value2'}"
      ]
     },
     "execution_count": 118,
     "metadata": {},
     "output_type": "execute_result"
    }
   ],
   "source": [
    "d20"
   ]
  },
  {
   "cell_type": "markdown",
   "id": "4622855d-4f19-4522-83cf-41583f8e2d32",
   "metadata": {},
   "source": [
    "## Dictionary Comprehension"
   ]
  },
  {
   "cell_type": "code",
   "execution_count": 122,
   "id": "701cdf61-a820-4490-bddd-dd70e794d31a",
   "metadata": {},
   "outputs": [
    {
     "data": {
      "text/plain": [
       "{1: 1, 2: 4, 3: 9, 4: 16, 5: 25, 6: 36, 7: 49, 8: 64, 9: 81, 10: 100}"
      ]
     },
     "execution_count": 122,
     "metadata": {},
     "output_type": "execute_result"
    }
   ],
   "source": [
    "{i: i**2 for i in range(1,11)}"
   ]
  },
  {
   "cell_type": "code",
   "execution_count": 121,
   "id": "910d8f7a-be6d-4bf2-8e30-8d1cc776b082",
   "metadata": {},
   "outputs": [
    {
     "data": {
      "text/plain": [
       "[1, 2, 3, 4, 5, 6, 7, 8, 9, 10]"
      ]
     },
     "execution_count": 121,
     "metadata": {},
     "output_type": "execute_result"
    }
   ],
   "source": [
    "list(range(1,11))"
   ]
  },
  {
   "cell_type": "code",
   "execution_count": 123,
   "id": "86ba116f-0ba9-400b-a1cc-912bd0590b4e",
   "metadata": {},
   "outputs": [
    {
     "data": {
      "text/plain": [
       "{1: 11, 2: 12, 3: 13, 4: 14, 5: 15, 6: 16, 7: 17, 8: 18, 9: 19, 10: 20}"
      ]
     },
     "execution_count": 123,
     "metadata": {},
     "output_type": "execute_result"
    }
   ],
   "source": [
    "{i: i+10 for i in range(1,11)}"
   ]
  },
  {
   "cell_type": "code",
   "execution_count": 135,
   "id": "28387e41-699c-45e7-b27b-479e9d3f78c8",
   "metadata": {},
   "outputs": [],
   "source": [
    "import math \n",
    "d21 = {i :math.log10(i) for i in range(1,11)}"
   ]
  },
  {
   "cell_type": "code",
   "execution_count": 136,
   "id": "26b2cd64-057f-4f9d-bbd8-b104b5762f8d",
   "metadata": {},
   "outputs": [
    {
     "data": {
      "text/plain": [
       "{1: 0.0,\n",
       " 2: 0.3010299956639812,\n",
       " 3: 0.47712125471966244,\n",
       " 4: 0.6020599913279624,\n",
       " 5: 0.6989700043360189,\n",
       " 6: 0.7781512503836436,\n",
       " 7: 0.8450980400142568,\n",
       " 8: 0.9030899869919435,\n",
       " 9: 0.9542425094393249,\n",
       " 10: 1.0}"
      ]
     },
     "execution_count": 136,
     "metadata": {},
     "output_type": "execute_result"
    }
   ],
   "source": [
    "d21"
   ]
  },
  {
   "cell_type": "code",
   "execution_count": 137,
   "id": "b73ee836-6d0a-4c59-9257-b8a451f09599",
   "metadata": {},
   "outputs": [
    {
     "data": {
      "text/plain": [
       "False"
      ]
     },
     "execution_count": 137,
     "metadata": {},
     "output_type": "execute_result"
    }
   ],
   "source": [
    "'batch_name' in d21"
   ]
  },
  {
   "cell_type": "code",
   "execution_count": 139,
   "id": "3dee4d77-e8b7-40aa-b4a4-2152a24cf439",
   "metadata": {},
   "outputs": [
    {
     "data": {
      "text/plain": [
       "{1: 0.0,\n",
       " 2: 0.3010299956639812,\n",
       " 3: 0.47712125471966244,\n",
       " 4: 0.6020599913279624,\n",
       " 5: 0.6989700043360189,\n",
       " 6: 0.7781512503836436,\n",
       " 7: 0.8450980400142568,\n",
       " 8: 0.9030899869919435,\n",
       " 9: 0.9542425094393249,\n",
       " 10: 1.0}"
      ]
     },
     "execution_count": 139,
     "metadata": {},
     "output_type": "execute_result"
    }
   ],
   "source": [
    "d21"
   ]
  },
  {
   "cell_type": "code",
   "execution_count": 138,
   "id": "a52b333c-3fa1-43e7-9914-f1d789ab27f9",
   "metadata": {},
   "outputs": [
    {
     "data": {
      "text/plain": [
       "{1: 0.0,\n",
       " 2: 0.3010299956639812,\n",
       " 3: 0.47712125471966244,\n",
       " 4: 0.6020599913279624,\n",
       " 5: 0.6989700043360189,\n",
       " 6: 0.7781512503836436,\n",
       " 7: 0.8450980400142568,\n",
       " 8: 0.9030899869919435,\n",
       " 9: 0.9542425094393249,\n",
       " 10: 1.0}"
      ]
     },
     "execution_count": 138,
     "metadata": {},
     "output_type": "execute_result"
    }
   ],
   "source": [
    "d21"
   ]
  },
  {
   "cell_type": "code",
   "execution_count": 140,
   "id": "fcc9a993-cc47-4333-94fe-0ec513156596",
   "metadata": {},
   "outputs": [
    {
     "data": {
      "text/plain": [
       "{1: 0.0,\n",
       " 2: 0.3010299956639812,\n",
       " 3: 0.47712125471966244,\n",
       " 4: 0.6020599913279624,\n",
       " 5: 0.6989700043360189,\n",
       " 6: 0.7781512503836436,\n",
       " 7: 0.8450980400142568,\n",
       " 8: 0.9030899869919435,\n",
       " 9: 0.9542425094393249,\n",
       " 10: 1.0}"
      ]
     },
     "execution_count": 140,
     "metadata": {},
     "output_type": "execute_result"
    }
   ],
   "source": [
    "d21"
   ]
  },
  {
   "cell_type": "code",
   "execution_count": 141,
   "id": "bc2e55ab-7622-4e31-af53-3c0e6f2dd62e",
   "metadata": {},
   "outputs": [
    {
     "data": {
      "text/plain": [
       "dict_keys([1, 2, 3, 4, 5, 6, 7, 8, 9, 10])"
      ]
     },
     "execution_count": 141,
     "metadata": {},
     "output_type": "execute_result"
    }
   ],
   "source": [
    "d21.keys()"
   ]
  },
  {
   "cell_type": "code",
   "execution_count": 142,
   "id": "993093d5-3877-449d-9d31-6de7c3c89c86",
   "metadata": {},
   "outputs": [
    {
     "name": "stdout",
     "output_type": "stream",
     "text": [
      "0.3010299956639812\n",
      "0.6020599913279624\n",
      "0.7781512503836436\n",
      "0.9030899869919435\n",
      "1.0\n"
     ]
    }
   ],
   "source": [
    "for i in d21.keys():\n",
    "    if i%2 == 0:\n",
    "        print(d21[i])"
   ]
  },
  {
   "cell_type": "code",
   "execution_count": null,
   "id": "085e0a76-c4d9-4202-9e59-f5e3d4106206",
   "metadata": {},
   "outputs": [],
   "source": []
  },
  {
   "cell_type": "code",
   "execution_count": null,
   "id": "68e37f6c-8675-4734-a9a8-920e1553dce0",
   "metadata": {},
   "outputs": [],
   "source": []
  }
 ],
 "metadata": {
  "kernelspec": {
   "display_name": "Python 3 (ipykernel)",
   "language": "python",
   "name": "python3"
  },
  "language_info": {
   "codemirror_mode": {
    "name": "ipython",
    "version": 3
   },
   "file_extension": ".py",
   "mimetype": "text/x-python",
   "name": "python",
   "nbconvert_exporter": "python",
   "pygments_lexer": "ipython3",
   "version": "3.10.8"
  }
 },
 "nbformat": 4,
 "nbformat_minor": 5
}
